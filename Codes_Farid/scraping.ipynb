{
 "cells": [
  {
   "cell_type": "code",
   "execution_count": 1,
   "metadata": {},
   "outputs": [
    {
     "name": "stdout",
     "output_type": "stream",
     "text": [
      "Populating the interactive namespace from numpy and matplotlib\n"
     ]
    }
   ],
   "source": [
    "%pylab inline"
   ]
  },
  {
   "cell_type": "code",
   "execution_count": 20,
   "metadata": {
    "collapsed": true
   },
   "outputs": [],
   "source": [
    "import pandas as pd\n",
    "from pprint import pprint"
   ]
  },
  {
   "cell_type": "code",
   "execution_count": 5,
   "metadata": {},
   "outputs": [
    {
     "name": "stdout",
     "output_type": "stream",
     "text": [
      "/Users/faridoukaci/Documents/S/F-LEARN/Hackathons/INSEE_jan2018/Hackathon-2018/données/DonneesTransmisesHackathon\n"
     ]
    }
   ],
   "source": [
    "cd données/DonneesTransmisesHackathon/"
   ]
  },
  {
   "cell_type": "code",
   "execution_count": 83,
   "metadata": {},
   "outputs": [],
   "source": [
    "import re\n",
    "\n",
    "def map_nom_voie(text):\n",
    "    \"\"\"Remplace les noms des voies abreges dans rp par les noms longs\"\"\"\n",
    "    \n",
    "    streetmap = [\n",
    "            ('R', 'Rue'), ('AV', 'Avenue'), ('RTE', 'Route'),\n",
    "            ('CHE', 'Chemin'), ('PL', 'Place'), ('BD', 'Boulevard'),\n",
    "            ('ALL', 'Allée'), ('IMP', 'Impasse'), ('RN', 'Rond Point'),\n",
    "            ('CD', 'Chemin Départemental'), ('DOM','Domaine') \n",
    "        ] \n",
    "    for character in streetmap: \n",
    "        if character[0] == text:\n",
    "            #text = re.sub('[%s]' % character[0], character[1], text)\n",
    "            text = character[1]\n",
    "            break\n",
    "    return text"
   ]
  },
  {
   "cell_type": "code",
   "execution_count": 51,
   "metadata": {},
   "outputs": [],
   "source": [
    "data_dept = 'rp_2017_60.csv'"
   ]
  },
  {
   "cell_type": "code",
   "execution_count": 135,
   "metadata": {},
   "outputs": [
    {
     "ename": "NameError",
     "evalue": "name 'crawl_societe_com' is not defined",
     "output_type": "error",
     "traceback": [
      "\u001b[0;31m---------------------------------------------------------------------------\u001b[0m",
      "\u001b[0;31mNameError\u001b[0m                                 Traceback (most recent call last)",
      "\u001b[0;32m<ipython-input-135-dd3017e6b5af>\u001b[0m in \u001b[0;36m<module>\u001b[0;34m()\u001b[0m\n\u001b[1;32m     10\u001b[0m \u001b[0;34m\u001b[0m\u001b[0m\n\u001b[1;32m     11\u001b[0m     \u001b[0;31m# Appel Societe\u001b[0m\u001b[0;34m\u001b[0m\u001b[0;34m\u001b[0m\u001b[0m\n\u001b[0;32m---> 12\u001b[0;31m     \u001b[0mresultats\u001b[0m \u001b[0;34m=\u001b[0m \u001b[0mcrawl_societe_com\u001b[0m\u001b[0;34m(\u001b[0m\u001b[0ment\u001b[0m\u001b[0;34m)\u001b[0m\u001b[0;34m\u001b[0m\u001b[0m\n\u001b[0m\u001b[1;32m     13\u001b[0m     \u001b[0mdistance\u001b[0m\u001b[0;34m(\u001b[0m\u001b[0ment\u001b[0m\u001b[0;34m,\u001b[0m \u001b[0mres\u001b[0m\u001b[0;34m)\u001b[0m\u001b[0;34m\u001b[0m\u001b[0m\n\u001b[1;32m     14\u001b[0m \u001b[0;34m\u001b[0m\u001b[0m\n",
      "\u001b[0;31mNameError\u001b[0m: name 'crawl_societe_com' is not defined"
     ]
    }
   ],
   "source": [
    "import re\n",
    "\n",
    "\n",
    "df = pd.read_csv(data_dept, sep=';', encoding='ISO-8859-1')\n",
    "\n",
    "for row in df.itertuples():\n",
    "    \n",
    "    # Extrait les information de l'entreprise\n",
    "    ent = extrait_ent(row)\n",
    "    \n",
    "    \n",
    "    # Appel Societe\n",
    "    resultats_sc = crawl_societe_com(ent)\n",
    "    \n",
    "    # Appel PJ\n",
    "    # TODO\n",
    "    # resultats_pj = crawl_pagesjaunes(ent)\n",
    "    \n",
    "    # Appel X\n",
    "    # TODO\n",
    "    # resultats_x = crawl_x(ent)\n",
    "    \n",
    "    \n",
    "    #pprint(ent)\n",
    "    "
   ]
  },
  {
   "cell_type": "code",
   "execution_count": 130,
   "metadata": {},
   "outputs": [],
   "source": [
    "def extrait_ent(row):\n",
    "    \n",
    "    ent = dict()\n",
    "    \n",
    "    # nom entreprise\n",
    "    ent['nom_ent'] = row.RS_X\n",
    "    \n",
    "    # adresse entreprise\n",
    "    num_voie = \"%.5g\" % row.NUMVOI_X\n",
    "    ent['num_voie'] = num_voie if num_voie != 'nan'  else '' \n",
    "    \n",
    "    type_voie = row.TYPEVOI_X if str(row.TYPEVOI_X) != 'nan'  else ''\n",
    "    ent['type_voie']= map_nom_voie(type_voie)\n",
    "    \n",
    "    ent['nom_voie'] = row.NOMVOI_X if row.NOMVOI_X != 'nan'  else ''\n",
    "\n",
    "    # Si le cp est pas renseigne et que le champs ILT_X=1 alors idem cp personnel\n",
    "    if row.ILT_X == 1:\n",
    "        cp = row.DEPCOM_CODE if str(row.DEPCOM_CODE) != 'nan'  else ''\n",
    "        ent['code_postal']= str(cp).strip()\n",
    "    else: \n",
    "        ent['code_postal']= ''\n",
    "    \n",
    "    dep = \"%.5g\" % row.DLT_X\n",
    "    dep = dep if str(dep) != 'nan'  else ''\n",
    "    ent['dep'] = dep\n",
    "    \n",
    "    ville = row.CLT_X if str(row.CLT_X) != 'nan'  else ''\n",
    "    ent['commune'] = ville\n",
    "    \n",
    "    bis_ter = row.BISTER_X if str(row.BISTER_X) != 'nan'  else ''\n",
    "    ent['bis_ter'] = bis_ter\n",
    "    \n",
    "    adresse_complete = \"%s %s %s %s\" % (ent['num_voie'], ent['bis_ter'], \n",
    "                                     ent['type_voie'], ent['nom_voie'])\n",
    "    ent['adresse_complete'] = re.sub('  +', ' ', adresse_complete).strip(' ')\n",
    "    \n",
    "    \n",
    "    # Activite\n",
    "    \n",
    "    \n",
    "    return ent\n",
    "    "
   ]
  },
  {
   "cell_type": "code",
   "execution_count": 145,
   "metadata": {},
   "outputs": [],
   "source": [
    "# https://www.societe.com/cgi-bin/liste?nom=MATRA+ELECTRONIQUE&dirig=&pre=&ape=&dep=60\n",
    "\n",
    "import requests\n",
    "\n",
    "\n",
    "def crawl_societe_com(ent):\n",
    "\n",
    "    url = 'https://www.societe.com/cgi-bin/liste?nom='\n",
    "\n",
    "    # Construire le nom d'entreprise     \n",
    "    s = re.sub('  +', ' ', ent['nom_ent']).strip(' ')\n",
    "    nom_ent = '+'.join(s.split())\n",
    "    \n",
    "    # A suivre\n",
    "    url_complete = '' # TODO\n",
    " \n",
    "    response = requests.get(url_complete)\n",
    "    \n",
    "    if response.status_code != 200:\n",
    "        print('Échec de la requête: statut %s.' % response.status_code)\n",
    "\n",
    "    resultats = list()\n",
    "    # TODO Recupere les resultats depuis la requete\n",
    "    \n",
    "    return resultats\n"
   ]
  },
  {
   "cell_type": "code",
   "execution_count": 133,
   "metadata": {},
   "outputs": [],
   "source": [
    "import re\n",
    "\n",
    "def clean_text(string):\n",
    "    \"\"\"Fonction de nettoyage textuel sommaire.\"\"\"\n",
    "    # Remplace les tabluations, sauts de lignes, etc. par des espaces.\n",
    "    string = re.sub('\\n|\\r|\\t|\\xa0', ' ', string)\n",
    "    # Retire les ' .' (séparateurs utilisés dans `soup.get_text`) inappropriés.\n",
    "    string = re.sub('^\\.', '', string.replace(' .', ''))\n",
    "    # Retire les espaces inappropriés.\n",
    "    return re.sub('  +', ' ', string).strip(' ')"
   ]
  },
  {
   "cell_type": "code",
   "execution_count": 146,
   "metadata": {},
   "outputs": [
    {
     "data": {
      "text/plain": [
       "'/Users/faridoukaci/Documents/S/F-LEARN/Hackathons/INSEE_jan2018/Hackathon-2018/données/DonneesTransmisesHackathon'"
      ]
     },
     "execution_count": 146,
     "metadata": {},
     "output_type": "execute_result"
    }
   ],
   "source": [
    "pwd"
   ]
  },
  {
   "cell_type": "code",
   "execution_count": null,
   "metadata": {},
   "outputs": [],
   "source": []
  },
  {
   "cell_type": "code",
   "execution_count": null,
   "metadata": {},
   "outputs": [],
   "source": []
  },
  {
   "cell_type": "code",
   "execution_count": null,
   "metadata": {
    "collapsed": true
   },
   "outputs": [],
   "source": []
  }
 ],
 "metadata": {
  "kernelspec": {
   "display_name": "hackathon-python3",
   "language": "python",
   "name": "hackathon-python3"
  },
  "language_info": {
   "codemirror_mode": {
    "name": "ipython",
    "version": 3
   },
   "file_extension": ".py",
   "mimetype": "text/x-python",
   "name": "python",
   "nbconvert_exporter": "python",
   "pygments_lexer": "ipython3",
   "version": "3.6.1"
  }
 },
 "nbformat": 4,
 "nbformat_minor": 2
}
