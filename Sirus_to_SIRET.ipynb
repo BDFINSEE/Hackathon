{
 "cells": [
  {
   "cell_type": "code",
   "execution_count": null,
   "metadata": {
    "collapsed": true
   },
   "outputs": [],
   "source": [
    "%pylab inline\n",
    "import pandas as pd"
   ]
  },
  {
   "cell_type": "markdown",
   "metadata": {},
   "source": [
    "### Code de transformation de la Table sirus en siret "
   ]
  },
  {
   "cell_type": "code",
   "execution_count": null,
   "metadata": {
    "collapsed": true
   },
   "outputs": [],
   "source": [
    "# Chargement des données sirus\n",
    "df = pd.read_csv('sirus_2017.csv', sep=\";\", encoding='ISO-8859-1', error_bad_lines=False)\n",
    "\n",
    "# Mise au format des variables sirus_id et nic\n",
    "df['nicstr'] = df.nic.astype(str)\n",
    "df['sirus_id_str'] = df.sirus_id.astype(str)\n",
    "l1 = []\n",
    "l2 = []\n",
    "for row in df.itertuples():\n",
    "    l1.append(str(row.nicstr).zfill(5))\n",
    "    l2.append(str(row.sirus_id_str).zfill(9))    \n",
    "\n",
    "df=pd.concat([df,pd.DataFrame(l1, columns=['nic_str']), pd.DataFrame(l2, columns=['sirus_id_str'])], axis=1)    \n",
    " \n",
    "# Construction de la varable SIRET    \n",
    "l3 = []\n",
    "for row in df.itertuples():\n",
    "    l3.append((row.sirus_id_str + row.nic_str).zfill(14))\n",
    "    \n",
    "df=pd.concat([df, pd.DataFrame(l3, columns=['SIRET'])], axis=1)\n",
    "\n",
    "l4 =[]\n",
    "for row in df.itertuples():\n",
    "    l4.append(row.denom) if str(row.denom) != 'nan' else l4.append(row.adr_et_l1)\n",
    "\n",
    "df.drop(['denom'], axis=1, inplace=True)\n",
    "\n",
    "df=pd.concat([df, pd.DataFrame(l4, columns=['denom'])], axis=1)\n",
    "\n",
    "# Récupération de la table finale\n",
    "df_fin=df[['SIRET', 'x', 'y', 'denom', 'sigle', 'enseigne', 'apet']]\n",
    "\n",
    "# Sauvegarde de la table SIRET.csv\n",
    "df_fin.to_csv('SIRET.csv', sep=';', encoding='ISO-8859-1')"
   ]
  }
 ],
 "metadata": {
  "kernelspec": {
   "display_name": "Python 3",
   "language": "python",
   "name": "python3"
  },
  "language_info": {
   "codemirror_mode": {
    "name": "ipython",
    "version": 3
   },
   "file_extension": ".py",
   "mimetype": "text/x-python",
   "name": "python",
   "nbconvert_exporter": "python",
   "pygments_lexer": "ipython3",
   "version": "3.6.3"
  }
 },
 "nbformat": 4,
 "nbformat_minor": 2
}
